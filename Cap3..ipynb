{
 "cells": [
  {
   "cell_type": "markdown",
   "metadata": {},
   "source": [
    "# Capítulo 3. Modelo de Recomendación Basado en Conocimiento y Números SVN"
   ]
  },
  {
   "cell_type": "markdown",
   "metadata": {},
   "source": [
    "## Cálculo de la similitud"
   ]
  },
  {
   "cell_type": "code",
   "execution_count": 14,
   "metadata": {},
   "outputs": [],
   "source": [
    "\n",
    "def euclideanNeu(a1,a2):\n",
    "    a=0\n",
    "    c=len(a1)    \n",
    "    for i in range(c):\n",
    "        a=pow(a1[i][0]-a2[i][0],2)+pow(a1[i][1]-a2[i][1],2)+pow(a1[i][1]-a2[i][1],2)\n",
    "    a=round(1.0/0.3*a,2)\n",
    "    return(a)\n",
    "def sim(a1,a2):\n",
    "    return 1-euclideanNeu(a1,a2)"
   ]
  },
  {
   "cell_type": "markdown",
   "metadata": {},
   "source": [
    "## Ejemplo de uso de la similitud"
   ]
  },
  {
   "cell_type": "code",
   "execution_count": 16,
   "metadata": {},
   "outputs": [
    {
     "data": {
      "text/plain": [
       "0.9"
      ]
     },
     "execution_count": 16,
     "metadata": {},
     "output_type": "execute_result"
    }
   ],
   "source": [
    "EB=(1,0,0)\n",
    "MMB=(0.9, 0.1, 0.1)\n",
    "MB=(0.8,0.15,0.20)\n",
    "B=(0.70,0.25,0.30)\n",
    "MDB=(0.60,0.35,0.40)\n",
    "M=(0.50,0.50,0.50)\n",
    "MDM=(0.40,0.65,0.60)\n",
    "MA=(0.30,0.75,0.70)\n",
    "MM=(0.20,0.85,0.80)\n",
    "MMM=(0.10,0.90,0.90)\n",
    "EM=(0,1,1)\n",
    "P=[MDB,MB,MMB,MB] # Perfil de usuario\n",
    "a=[MDB,M,MMB,B]\n",
    "sim(a,P)"
   ]
  }
 ],
 "metadata": {
  "kernelspec": {
   "display_name": "Python 3",
   "language": "python",
   "name": "python3"
  },
  "language_info": {
   "codemirror_mode": {
    "name": "ipython",
    "version": 3
   },
   "file_extension": ".py",
   "mimetype": "text/x-python",
   "name": "python",
   "nbconvert_exporter": "python",
   "pygments_lexer": "ipython3",
   "version": "3.6.4"
  }
 },
 "nbformat": 4,
 "nbformat_minor": 2
}
