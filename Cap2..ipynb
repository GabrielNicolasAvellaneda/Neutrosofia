{
 "cells": [
  {
   "cell_type": "markdown",
   "metadata": {},
   "source": [
    "## Capítulo 2: Toma de Decisiones y Neutrosofía"
   ]
  },
  {
   "cell_type": "markdown",
   "metadata": {},
   "source": [
    "## Distancia Euclidiana entre números SVN"
   ]
  },
  {
   "cell_type": "code",
   "execution_count": 50,
   "metadata": {},
   "outputs": [],
   "source": [
    "def euclideanNeu(a1,a2):\n",
    "    a=0\n",
    "    c=len(a1)    \n",
    "    for i in range(c):        \n",
    "        a=a+pow(a1[i][0]-a2[i][0],2)+pow(a1[i][1]-a2[i][1],2)+pow(a1[i][2]-a2[i][2],2)\n",
    "    a=pow(1.0/3.0*a,0.5)\n",
    "    return(a)"
   ]
  },
  {
   "cell_type": "markdown",
   "metadata": {},
   "source": [
    "## Ejemplo de uso de la distancia Euclidiana"
   ]
  },
  {
   "cell_type": "code",
   "execution_count": 3,
   "metadata": {},
   "outputs": [
    {
     "ename": "NameError",
     "evalue": "name 'euclideanNeu' is not defined",
     "output_type": "error",
     "traceback": [
      "\u001b[1;31m---------------------------------------------------------------------------\u001b[0m",
      "\u001b[1;31mNameError\u001b[0m                                 Traceback (most recent call last)",
      "\u001b[1;32m<ipython-input-3-0b32dff82490>\u001b[0m in \u001b[0;36m<module>\u001b[1;34m()\u001b[0m\n\u001b[0;32m     12\u001b[0m \u001b[0mr1\u001b[0m\u001b[1;33m=\u001b[0m\u001b[1;33m[\u001b[0m\u001b[0mMDB\u001b[0m\u001b[1;33m,\u001b[0m\u001b[0mB\u001b[0m\u001b[1;33m,\u001b[0m\u001b[0mB\u001b[0m\u001b[1;33m]\u001b[0m\u001b[1;33m\u001b[0m\u001b[0m\n\u001b[0;32m     13\u001b[0m \u001b[0mi\u001b[0m\u001b[1;33m=\u001b[0m\u001b[1;33m[\u001b[0m\u001b[0mMMB\u001b[0m\u001b[1;33m,\u001b[0m \u001b[0mMMB\u001b[0m\u001b[1;33m,\u001b[0m \u001b[0mMB\u001b[0m\u001b[1;33m]\u001b[0m\u001b[1;33m\u001b[0m\u001b[0m\n\u001b[1;32m---> 14\u001b[1;33m \u001b[0meuclideanNeu\u001b[0m\u001b[1;33m(\u001b[0m\u001b[0mr1\u001b[0m\u001b[1;33m,\u001b[0m\u001b[0mi\u001b[0m\u001b[1;33m)\u001b[0m\u001b[1;33m\u001b[0m\u001b[0m\n\u001b[0m",
      "\u001b[1;31mNameError\u001b[0m: name 'euclideanNeu' is not defined"
     ]
    }
   ],
   "source": [
    "EB=(1,0,0)\n",
    "MMB=(0.9, 0.1, 0.1)\n",
    "MB=(0.8,0.15,0.20)\n",
    "B=(0.70,0.25,0.30)\n",
    "MDB=(0.60,0.35,0.40)\n",
    "M=(0.50,0.50,0.50)\n",
    "MDM=(0.40,0.65,0.60)\n",
    "MA=(0.30,0.75,0.70)\n",
    "MM=(0.20,0.85,0.80)\n",
    "MMM=(0.10,0.90,0.90)\n",
    "EM=(0,1,1)\n",
    "r1=[MDB,B,B]\n",
    "i=[MMB, MMB, MB]\n",
    "euclideanNeu(r1,i)"
   ]
  },
  {
   "cell_type": "markdown",
   "metadata": {},
   "source": [
    "## Operador SVNWA"
   ]
  },
  {
   "cell_type": "code",
   "execution_count": 4,
   "metadata": {},
   "outputs": [],
   "source": [
    "def SVNWA(list,W):\n",
    "    t=1\n",
    "    i=1\n",
    "    f=1\n",
    "    for j in list:\n",
    "        t=t*(1-j[0])**W[0]\n",
    "        i=i*j[1]**W[1]\n",
    "        f=f*j[2]**W[2]        \n",
    "    return (1-t,i,f)\n",
    "    "
   ]
  },
  {
   "cell_type": "markdown",
   "metadata": {},
   "source": [
    "## Ejemplo de uso SVNWA"
   ]
  },
  {
   "cell_type": "code",
   "execution_count": 5,
   "metadata": {},
   "outputs": [
    {
     "data": {
      "text/plain": [
       "(0.8117726705496677, 0.40399853040843603, 0.5616112968865584)"
      ]
     },
     "execution_count": 5,
     "metadata": {},
     "output_type": "execute_result"
    }
   ],
   "source": [
    "A=[MDB,B,MDB]\n",
    "W = [0.55, 0.26, 0.19] # W:Vector de pesos\n",
    "SVNWA(A,W)"
   ]
  },
  {
   "cell_type": "markdown",
   "metadata": {},
   "source": [
    "## Operador SVNGA"
   ]
  },
  {
   "cell_type": "code",
   "execution_count": 6,
   "metadata": {},
   "outputs": [],
   "source": [
    "def SVNGA(list,W):\n",
    "    t=1\n",
    "    i=1\n",
    "    f=1\n",
    "    for j in list:\n",
    "        t=t*j[0]**W[0]\n",
    "        i=i*j[1]**W[1]\n",
    "        f=f*j[2]**W[2]        \n",
    "    return (t,i,f)"
   ]
  },
  {
   "cell_type": "code",
   "execution_count": 7,
   "metadata": {},
   "outputs": [
    {
     "data": {
      "text/plain": [
       "(0.4685654877561191, 0.40399853040843603, 0.5616112968865584)"
      ]
     },
     "execution_count": 7,
     "metadata": {},
     "output_type": "execute_result"
    }
   ],
   "source": [
    "A=[MDB,B,MDB]\n",
    "W = [0.55, 0.26, 0.19] # W:Vector de pesos\n",
    "SVNGA(A,W)"
   ]
  },
  {
   "cell_type": "code",
   "execution_count": null,
   "metadata": {},
   "outputs": [],
   "source": []
  }
 ],
 "metadata": {
  "kernelspec": {
   "display_name": "Python 3",
   "language": "python",
   "name": "python3"
  },
  "language_info": {
   "codemirror_mode": {
    "name": "ipython",
    "version": 3
   },
   "file_extension": ".py",
   "mimetype": "text/x-python",
   "name": "python",
   "nbconvert_exporter": "python",
   "pygments_lexer": "ipython3",
   "version": "3.6.4"
  }
 },
 "nbformat": 4,
 "nbformat_minor": 2
}
