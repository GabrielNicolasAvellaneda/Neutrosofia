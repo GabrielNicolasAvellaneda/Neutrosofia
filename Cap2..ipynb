{
 "cells": [
  {
   "cell_type": "markdown",
   "metadata": {},
   "source": [
    "## Capítulo 2: Toma de Decisiones y Neutrosofía"
   ]
  },
  {
   "cell_type": "markdown",
   "metadata": {},
   "source": [
    "## Distancia Euclidiana entre números SVN"
   ]
  },
  {
   "cell_type": "code",
   "execution_count": 12,
   "metadata": {},
   "outputs": [],
   "source": [
    "def euclideanNeu(a1,a2):\n",
    "    a=0\n",
    "    c=len(a1)    \n",
    "    for i in range(c):\n",
    "        a=pow(a1[i][0]-a2[i][0],2)+pow(a1[i][1]-a2[i][1],2)+pow(a1[i][1]-a2[i][1],2)\n",
    "    a=round(1.0/0.3*a,2)\n",
    "    return(a)"
   ]
  },
  {
   "cell_type": "markdown",
   "metadata": {},
   "source": [
    "## Ejemplo de uso de la distancia Euclidiana"
   ]
  },
  {
   "cell_type": "code",
   "execution_count": 15,
   "metadata": {},
   "outputs": [
    {
     "data": {
      "text/plain": [
       "0.05"
      ]
     },
     "execution_count": 15,
     "metadata": {},
     "output_type": "execute_result"
    }
   ],
   "source": [
    "EB=(1,0,0)\n",
    "MMB=(0.9, 0.1, 0.1)\n",
    "MB=(0.8,0.15,0.20)\n",
    "B=(0.70,0.25,0.30)\n",
    "MDB=(0.60,0.35,0.40)\n",
    "M=(0.50,0.50,0.50)\n",
    "MDM=(0.40,0.65,0.60)\n",
    "MA=(0.30,0.75,0.70)\n",
    "MM=(0.20,0.85,0.80)\n",
    "MMM=(0.10,0.90,0.90)\n",
    "EM=(0,1,1)\n",
    "r1=[MDB,M,MMB]\n",
    "i=[MMB, MMB, MB]\n",
    "euclideanNeu(r1,i)"
   ]
  },
  {
   "cell_type": "markdown",
   "metadata": {},
   "source": [
    "## Operador SVNWA"
   ]
  },
  {
   "cell_type": "code",
   "execution_count": 21,
   "metadata": {},
   "outputs": [],
   "source": [
    "def SVNWA(list,W):\n",
    "    t=1\n",
    "    i=1\n",
    "    f=1\n",
    "    for j in list:\n",
    "        t=t*j[0]\n",
    "        i=i*j[1]\n",
    "        f=f*j[2]        \n",
    "    return (round(1-pow(t,W[0]),2),round(pow(i,W[1]),2),round(pow(f,W[2]),2))\n",
    "    "
   ]
  },
  {
   "cell_type": "markdown",
   "metadata": {},
   "source": [
    "## Ejemplo de uso SVNWA"
   ]
  },
  {
   "cell_type": "code",
   "execution_count": 24,
   "metadata": {},
   "outputs": [
    {
     "data": {
      "text/plain": [
       "(0.53, 0.4, 0.56)"
      ]
     },
     "execution_count": 24,
     "metadata": {},
     "output_type": "execute_result"
    }
   ],
   "source": [
    "A=[MDB,B,MDB]\n",
    "W = [0.55, 0.26, 0.19] # W:Vector de pesos\n",
    "SVNWA(A,W)"
   ]
  }
 ],
 "metadata": {
  "kernelspec": {
   "display_name": "Python 3",
   "language": "python",
   "name": "python3"
  },
  "language_info": {
   "codemirror_mode": {
    "name": "ipython",
    "version": 3
   },
   "file_extension": ".py",
   "mimetype": "text/x-python",
   "name": "python",
   "nbconvert_exporter": "python",
   "pygments_lexer": "ipython3",
   "version": "3.6.4"
  }
 },
 "nbformat": 4,
 "nbformat_minor": 2
}
