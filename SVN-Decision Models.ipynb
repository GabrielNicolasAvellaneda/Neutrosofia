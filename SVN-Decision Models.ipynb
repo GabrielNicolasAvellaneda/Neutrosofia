{
 "cells": [
  {
   "cell_type": "markdown",
   "metadata": {},
   "source": [
    "# Revista NCML modelos de decisión basados en números SVN #"
   ]
  },
  {
   "cell_type": "code",
   "execution_count": null,
   "metadata": {
    "collapsed": true
   },
   "outputs": [],
   "source": [
    "EB=(1,0,0)\n",
    "MMB=(0.9, 0.1, 0.1)\n",
    "MB=(0.8,0.15,0.20)\n",
    "B=(0.70,0.25,0.30)\n",
    "MDB=(0.60,0.35,0.40)\n",
    "M=(0.50,0.50,0.50)\n",
    "MDM=(0.40,0.65,0.60)\n",
    "MA=(0.30,0.75,0.70)\n",
    "MM=(0.20,0.85,0.80)\n",
    "MMM=(0.10,0.90,0.90)\n",
    "EM=(0,1,1) "
   ]
  },
  {
   "cell_type": "code",
   "execution_count": 1,
   "metadata": {},
   "outputs": [],
   "source": [
    "def SVNWA(list,W):\n",
    "    t=1\n",
    "    i=1\n",
    "    f=1\n",
    "    for j in list:\n",
    "        t=t*j[0]\n",
    "        i=i*j[1]\n",
    "        f=f*j[2]\n",
    "        print(j[2])\n",
    "    return (round(1-pow(t,W[0]),2),round(pow(i,W[1]),2),round(pow(f,W[2]),2))\n",
    "    "
   ]
  },
  {
   "cell_type": "code",
   "execution_count": 2,
   "metadata": {},
   "outputs": [
    {
     "ename": "NameError",
     "evalue": "name 'MB' is not defined",
     "output_type": "error",
     "traceback": [
      "\u001b[1;31m---------------------------------------------------------------------------\u001b[0m",
      "\u001b[1;31mNameError\u001b[0m                                 Traceback (most recent call last)",
      "\u001b[1;32m<ipython-input-2-3bd28d31fd17>\u001b[0m in \u001b[0;36m<module>\u001b[1;34m()\u001b[0m\n\u001b[1;32m----> 1\u001b[1;33m \u001b[0mr11\u001b[0m\u001b[1;33m=\u001b[0m\u001b[1;33m[\u001b[0m\u001b[0mMB\u001b[0m\u001b[1;33m,\u001b[0m\u001b[0mM\u001b[0m\u001b[1;33m,\u001b[0m \u001b[0mMB\u001b[0m\u001b[1;33m,\u001b[0m \u001b[0mB\u001b[0m\u001b[1;33m,\u001b[0m \u001b[0mM\u001b[0m\u001b[1;33m]\u001b[0m\u001b[1;33m\u001b[0m\u001b[0m\n\u001b[0m\u001b[0;32m      2\u001b[0m \u001b[0mr12\u001b[0m\u001b[1;33m=\u001b[0m\u001b[1;33m[\u001b[0m\u001b[0mMB\u001b[0m\u001b[1;33m,\u001b[0m\u001b[0mB\u001b[0m\u001b[1;33m,\u001b[0m\u001b[0mM\u001b[0m\u001b[1;33m,\u001b[0m\u001b[0mM\u001b[0m\u001b[1;33m,\u001b[0m\u001b[0mB\u001b[0m\u001b[1;33m]\u001b[0m\u001b[1;33m\u001b[0m\u001b[0m\n\u001b[0;32m      3\u001b[0m \u001b[0mr13\u001b[0m\u001b[1;33m=\u001b[0m\u001b[1;33m[\u001b[0m\u001b[0mEM\u001b[0m\u001b[1;33m,\u001b[0m\u001b[0mMB\u001b[0m\u001b[1;33m,\u001b[0m\u001b[0mM\u001b[0m\u001b[1;33m,\u001b[0m\u001b[0mMB\u001b[0m\u001b[1;33m,\u001b[0m\u001b[0mM\u001b[0m\u001b[1;33m]\u001b[0m\u001b[1;33m\u001b[0m\u001b[0m\n\u001b[0;32m      4\u001b[0m \u001b[0mr\u001b[0m\u001b[1;33m=\u001b[0m\u001b[1;33m[\u001b[0m\u001b[0mM\u001b[0m\u001b[1;33m,\u001b[0m\u001b[0mM\u001b[0m\u001b[1;33m,\u001b[0m\u001b[0mM\u001b[0m\u001b[1;33m]\u001b[0m\u001b[1;33m\u001b[0m\u001b[0m\n",
      "\u001b[1;31mNameError\u001b[0m: name 'MB' is not defined"
     ]
    }
   ],
   "source": [
    "r11=[MB,M, MB, B, M]\n",
    "r12=[MB,B,M,M,B]\n",
    "r13=[EM,MB,M,MB,M]\n",
    "r=[M,M,M]\n"
   ]
  },
  {
   "cell_type": "code",
   "execution_count": null,
   "metadata": {},
   "outputs": [],
   "source": [
    "SVNWA([M,MMB,MB],[0.3,0.3,0.4])"
   ]
  },
  {
   "cell_type": "code",
   "execution_count": null,
   "metadata": {},
   "outputs": [],
   "source": [
    "r1=[(0.24, 0.2, 0.12),(0.41, 0.44, 0.35),(0.38, 0.0, 0.17),(0.21, 0.21, 0.17),(0.49, 0.49, 0.41)]\n",
    "r2=[(0.18, 0.18, 0.14),(0.32, 0.3, 0.25),(0.29, 0.27, 0.19),(0.49, 0.49, 0.41),(0.24, 0.25, 0.2)]\n",
    "r3=[(0.19, 0.0, 0.0),(0.46, 0.44, 0.35),(0.54, 0.61, 0.5),(0.21, 0.21, 0.17),(0.26, 0.23, 0.16)]\n",
    "i=[(0.2,0,0),(0.4,0.3,0.25),(0.38, 0.61,0.5),(0.49,0.21,0.17),(0.24,0.49,0.41)]"
   ]
  },
  {
   "cell_type": "code",
   "execution_count": null,
   "metadata": {},
   "outputs": [],
   "source": [
    "def euclideanNeu(a1,a2):\n",
    "    a=0\n",
    "    c=len(a1)    \n",
    "    for i in range(c):\n",
    "        a=pow(a1[i][0]-a2[i][0],2)+pow(a1[i][1]-a2[i][1],2)+pow(a1[i][1]-a2[i][1],2)\n",
    "    a=round(1.0/0.3*a,2)\n",
    "    return(a)"
   ]
  },
  {
   "cell_type": "code",
   "execution_count": null,
   "metadata": {},
   "outputs": [],
   "source": [
    "print (euclideanNeu(r3,i))"
   ]
  },
  {
   "cell_type": "code",
   "execution_count": null,
   "metadata": {},
   "outputs": [],
   "source": []
  }
 ],
 "metadata": {
  "kernelspec": {
   "display_name": "Python 3",
   "language": "python",
   "name": "python3"
  },
  "language_info": {
   "codemirror_mode": {
    "name": "ipython",
    "version": 3
   },
   "file_extension": ".py",
   "mimetype": "text/x-python",
   "name": "python",
   "nbconvert_exporter": "python",
   "pygments_lexer": "ipython3",
   "version": "3.6.4"
  }
 },
 "nbformat": 4,
 "nbformat_minor": 2
}
